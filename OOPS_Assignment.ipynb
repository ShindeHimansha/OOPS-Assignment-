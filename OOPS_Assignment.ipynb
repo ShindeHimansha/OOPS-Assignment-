{
  "nbformat": 4,
  "nbformat_minor": 0,
  "metadata": {
    "colab": {
      "provenance": []
    },
    "kernelspec": {
      "name": "python3",
      "display_name": "Python 3"
    },
    "language_info": {
      "name": "python"
    }
  },
  "cells": [
    {
      "cell_type": "markdown",
      "source": [
        "#1 What is Object Oriented Programming (OOP) ?\n",
        "- OOP in Python organizes code using classes (blueprints) and objects (instances), promoting modularity, reusability, and scalability. It allows bundling data (attributes) and behavior (methods) into a single entity.\n",
        "\n",
        "- Key principles include encapsulation (restricting access to data), inheritance (reusing properties and methods from a parent class), polymorphism (different classes using the same method differently), and abstraction (hiding implementation details).\n",
        "\n",
        "#2 What is a class in OOP ?\n",
        "- A class in Object-Oriented Programming (OOP) is a blueprint or template for creating objects. It defines attributes (variables) to store data and methods (functions) to define behaviors.\n",
        "- Classes help in structuring code by encapsulating related properties and functions into a single unit, promoting modularity and reusability.\n",
        "- In Python, a class is defined using the class keyword, and objects are created as instances of the class.\n",
        "- Example:- class Car:\n",
        "      def __init__(self, brand):\n",
        "        self.brand = brand\n",
        "\n",
        "      def show(self):\n",
        "        return f\"Brand: {self.brand}\"\n",
        "\n",
        "my_car = Car(\"Toyota\")\n",
        "print(my_car.show())\n",
        "\n",
        "#3 What is an object in OOP ?\n",
        "- Instance of a Class – An object is created from a class and holds specific values for the attributes defined in the class.\n",
        "- Encapsulation of Data and Behavior – Objects store data (attributes) and have functions (methods) that operate on that data.\n",
        "- Multiple Objects – Multiple instances of a class can exist, each with different attribute values.\n",
        "- Example :-\n",
        "class Car:\n",
        "      def __init__(self, brand):\n",
        "        self.brand = brand\n",
        "\n",
        "      def show(self):\n",
        "        return f\"Brand: {self.brand}\"\n",
        "\n",
        "car1 = Car(\"Toyota\")\n",
        "print(car1.show())\n",
        "\n",
        "#4 What is the difference between abstraction and encapsulation ?\n",
        "- Definition:\n",
        "    - Abstraction focuses on hiding implementation details and showing only the essential features of an object. It simplifies complexity by exposing only what is necessary.\n",
        "    - Encapsulation involves hiding the internal state of an object and restricting access to it through controlled interfaces, typically using access modifiers (like private or protected).\n",
        "\n",
        "- Purpose:\n",
        "    - Abstraction is used to emphasize what an object does, rather than how it does it.\n",
        "    - Encapsulation is used to protect the object’s data and maintain integrity by preventing unauthorized access or modification.\n",
        "\n",
        "- Implementation:\n",
        "    - Abstraction is implemented using abstract classes or interfaces.\n",
        "    - Encapsulation is implemented by declaring variables private or protected and providing getter and setter methods for controlled access.\n",
        "\n",
        "\n",
        "#5 What are dunder methods in Python ?\n",
        "- Dunder (double underscore) methods, also known as magic methods or special methods, are built-in methods in Python that start and end with double underscores (__). They enable special behaviors for classes, such as operator overloading and object customization.\n",
        "- Common Dunder methods\n",
        "    - __init__ (Constructor) – Initializes an object\n",
        "    - __str__ (String Representation) – Defines how an object is printed\n",
        "    - __repr__ (Official String Representation) – Used for debugging\n",
        "\n",
        "\n",
        "#6 Explain the concept of inheritance in OOP.\n",
        "- Inheritance in Object-Oriented Programming (OOP) is a mechanism where one class (called the child or subclass) derives properties and behaviors (attributes and methods) from another class (called the parent or superclass).\n",
        "- This allows the subclass to reuse, extend, or modify the functionality of the parent class, promoting code reuse and reducing redundancy.\n",
        "\n",
        "#7 What is polymorphism in OOP ?\n",
        "- Polymorphism in Object-Oriented Programming (OOP) refers to the ability of different classes to respond to the same method or function call in different ways. The term comes from the Greek word \"poly\" (meaning many) and \"morph\" (meaning form), so it literally means \"many forms.\"\n",
        "\n",
        "- Polymorphism allows objects of different types to be treated as objects of a common superclass, with each subclass implementing its own version of a method. This concept helps make code more flexible and extensible.\n",
        "\n",
        "- Types of Polymorphism\n",
        "    - Compile-time Polymorphism (Method Overloading):- Occurs when multiple methods in the same class have the same name but differ in the number or type of their parameters.\n",
        "    - Runtime Polymorphism (Method Overriding):- Occurs when a subclass provides a specific implementation of a method that is already defined in its superclass.\n",
        "    - Operator Overloading :- Occurs when operators (like +, -, *, etc.) are given new functionality to work with user-defined objects.\n",
        "\n",
        "\n",
        "#8 How is encapsulation achieved in Python ?\n",
        "- Encapsulation is the OOP concept of restricting access to an object's internal state and protecting it from unauthorized modification. In Python, encapsulation is achieved through access modifiers (public, protected, and private) and by providing methods (getters and setters) to access or modify the data.\n",
        "- Public Access: No underscore is used, and the attribute or method is directly accessible from outside the class.\n",
        "    - class Person:\n",
        "          def __init__(self, name):\n",
        "          self.name = name  # Public attribute\n",
        "- Protected Access: A single underscore (_) is used to indicate that an attribute or method is intended for internal use and should not be accessed directly outside the class or subclass.\n",
        "    - class Person:\n",
        "          def __init__(self, name):\n",
        "          self._name = name  # Protected attribute\n",
        "- Private Access: A double underscore (__) is used to make the attribute or method private. It is name-mangled to prevent accidental access outside the class.\n",
        "    - class Person:\n",
        "          def __init__(self, name):\n",
        "          self.__name = name  # Private attribute\n",
        "\n",
        "#9 What is a constructor in Python ?\n",
        "- A constructor in Python is a special method called when an object of a class is instantiated. It is used to initialize the object's attributes with specific values when the object is created.\n",
        "- The constructor in Python is defined using the __init__() method, which is automatically invoked when an instance of the class is created.\n",
        "- Example : class Person:\n",
        "    def __init__(self, name, age):\n",
        "        self.name = name  # Initializing attributes\n",
        "        self.age = age\n",
        "        p = Person(\"John\", 30)\n",
        "        print(p.name)  \n",
        "        print(p.age)  \n",
        "\n",
        "#10 What are class and static methods in Python ?\n",
        "- 1. Class Method (@classmethod)\n",
        "  - A class method takes the class itself (cls) as its first parameter instead of self.\n",
        "  - It can modify the class state (i.e., it can modify class variables).\n",
        "  - class Example:\n",
        "        class_variable = \"Hello\"\n",
        "        @classmethod\n",
        "        def class_method(cls, value):\n",
        "            cls.class_variable = value  # Modifying class variable\n",
        "            return f\"Updated class_variable to: {cls.class_variable}\"\n",
        "\n",
        "        # Calling the class method\n",
        "        print(Example.class_method(\"World\"))  # Output: Updated class_variable to: World\n",
        "- 2. Static Method (@staticmethod)\n",
        "    - A static method does not take self or cls as its first parameter.\n",
        "    - It behaves just like a regular function but belongs to the class namespace.\n",
        "    - It cannot modify instance (self) or class (cls) attributes.\n",
        "    - class MathOperations:\n",
        "              @staticmethod\n",
        "              def add(a, b):\n",
        "                  return a + b\n",
        "            print(MathOperations.add(5, 3))\n",
        "\n",
        "#11 What is method overloading in Python ?\n",
        "- Method overloading is a feature that allows multiple methods in the same class to have the same name but different parameters. However, Python does not support method overloading in the traditional sense (like Java or C++), because functions in Python can take a variable number of arguments using *args and **kwargs.\n",
        "\n",
        "#12 What is method overriding in OOP ?\n",
        "- Method overriding is a feature in Object-Oriented Programming (OOP) that allows a subclass to provide a specific implementation of a method that is already defined in its parent class.\n",
        "      - # Parent class\n",
        "      class Animal:\n",
        "          def sound(self):\n",
        "              return \"Animals make different sounds\"\n",
        "\n",
        "      # Child class (Overriding the sound method)\n",
        "      class Dog(Animal):\n",
        "          def sound(self):\n",
        "              return \"Woof! Woof!\"\n",
        "\n",
        "      # Child class (Overriding the sound method)\n",
        "      class Cat(Animal):\n",
        "          def sound(self):\n",
        "              return \"Meow! Meow!\"\n",
        "\n",
        "      # Creating objects\n",
        "      dog = Dog()\n",
        "      cat = Cat()\n",
        "\n",
        "      # Calling the overridden methods\n",
        "      print(dog.sound())  # Output: Woof! Woof!\n",
        "      print(cat.sound())  # Output: Meow! Meow!\n",
        "\n",
        "#13 What is a property decorator in Python ?\n",
        "- The property decorator (@property) in Python is used to define a getter method in a class that behaves like an attribute. It allows controlled access to instance variables, helping with encapsulation (data hiding) while keeping the syntax simple.\n",
        "      - class Person:\n",
        "          def __init__(self, name):\n",
        "              self._name = name  # Private variable (convention: _name)\n",
        "\n",
        "          @property\n",
        "          def name(self):  # Getter method\n",
        "              return self._name\n",
        "\n",
        "      # Creating an instance\n",
        "      p = Person(\"Alice\")\n",
        "      print(p.name)\n",
        "\n",
        "#14 Why is polymorphism important in OOP ?\n",
        "- Polymorphism is a key concept in Object-Oriented Programming (OOP) that allows objects of different classes to be treated as objects of a common superclass. It enables code reusability, flexibility, and scalability, making software development more efficient.\n",
        "- Polymorphism is essential in OOP because it:\n",
        "    - Promotes code reusability and reduces redundancy.\n",
        "    - Enhances flexibility by allowing new classes to be added without modifying existing code.\n",
        "    - Supports method overriding and operator overloading for dynamic behavior.\n",
        "    - Improves maintainability and scalability of software projects.\n",
        "\n",
        "#15 What is an abstract class in Python ?\n",
        "- An abstract class in Python is a class that cannot be instantiated and serves as a blueprint for other classes. It defines methods that must be implemented in its subclasses.\n",
        "\n",
        "- Abstract classes are created using the ABC (Abstract Base Class) module.\n",
        "\n",
        "      - from abc import ABC, abstractmethod\n",
        "\n",
        "      class Animal(ABC):  \n",
        "          @abstractmethod\n",
        "          def make_sound(self):\n",
        "              pass  \n",
        "\n",
        "      class Dog(Animal):  \n",
        "          def make_sound(self):\n",
        "              return \"Woof!\"\n",
        "\n",
        "      class Cat(Animal):  \n",
        "          def make_sound(self):\n",
        "              return \"Meow!\"\n",
        "\n",
        "      dog = Dog()\n",
        "      cat = Cat()\n",
        "\n",
        "      print(dog.make_sound())\n",
        "      print(cat.make_sound())\n",
        "\n",
        "#16 What are the advantages of OOP ?\n",
        "- Modularity & Code Reusability – Encourages reusable, modular code through classes and objects.\n",
        "- Encapsulation (Data Hiding) – Protects data by restricting direct access to class attributes.\n",
        "- Inheritance (Avoids Code Duplication) – Allows new classes to inherit properties and methods from existing ones.\n",
        "- Polymorphism (Flexibility & Scalability) – Enables a single interface for multiple data types, improving flexibility.\n",
        "- Maintainability & Scalability – Organizes code efficiently, making it easier to update and scale.\n",
        "- Abstraction (Simplifies Complexity) – Hides unnecessary details, exposing only essential functionality.\n",
        "\n",
        "#17 What is the difference between a class variable and an instance variable ?\n",
        "- Class Variable:\n",
        "    - Shared across all instances of a class.\n",
        "    - Declared inside the class but outside any methods.\n",
        "    - Changing the value of a class variable affects all instances of the class.\n",
        "    - It is typically used for values that are the same for every instance of the class (e.g., a counter or a constant value).\n",
        "\n",
        "- Instance Variable:\n",
        "    - Unique to each instance (object) of the class.\n",
        "    - Defined inside the constructor (__init__) using self.\n",
        "    - Changing the value of an instance variable only affects the specific instance.\n",
        "    - It is typically used for attributes that are specific to each object (e.g., a person's name, age, or specific object properties).\n",
        "\n",
        "#18 What is multiple inheritance in Python ?\n",
        "- Multiple inheritance is a feature in Python where a class can inherit attributes and methods from more than one parent class.\n",
        "\n",
        "- Key Points:\n",
        "    - Allows a child class to inherit properties from multiple base classes.\n",
        "    - Can lead to ambiguity issues (handled using the Method Resolution Order (MRO)).\n",
        "    - Enables code reuse and modular design.\n",
        "    - The super() function can be used to call parent class methods efficiently.\n",
        "- Example:\n",
        "      class Parent1:\n",
        "          def feature1(self):\n",
        "              return \"Feature from Parent1\"\n",
        "\n",
        "      class Parent2:\n",
        "          def feature2(self):\n",
        "              return \"Feature from Parent2\"\n",
        "\n",
        "      class Child(Parent1, Parent2):  \n",
        "          pass\n",
        "\n",
        "      obj = Child()\n",
        "      print(obj.feature1())  \n",
        "      print(obj.feature2())  \n",
        "\n",
        "#19 Explain the purpose of __str__ and __repr__ methods in Python ?\n",
        "- __str__() – User-Friendly Representation\n",
        "  - Used for a human-readable string representation of an object.\n",
        "  - Called by print(object) or str(object).\n",
        "  - Should return a nicely formatted string for end users.\n",
        "- __repr__() – Debugging & Developer-Friendly Representation\n",
        "  - Used for a formal string representation meant for debugging.\n",
        "  - Called by repr(object).\n",
        "  - Should return a valid Python expression that can recreate the object when passed to eval().\n",
        "\n",
        "\n",
        "#20 What is the significance of the super() function in Python\n",
        "- The super() function is used to call methods from a parent (superclass) inside a child (subclass), ensuring proper method resolution in inheritance.\n",
        "- Key Benefits of super()\n",
        "  - Access Parent Methods - Calls methods from the superclass without explicitly naming it.\n",
        "  - Supports Multiple Inheritance - Ensures the correct Method Resolution Order (MRO) in complex hierarchies.\n",
        "  - Prevents Redundant Code - Avoids re-writing parent class logic in child classes.\n",
        "  - Works with __init__() -  Used to initialize parent class attributes in subclasses.\n",
        "  - Ensures Maintainability - If the parent class changes, the child class automatically adapts.\n",
        "\n",
        "#21 What is the significance of the __del__ method in Python ?\n",
        "- The __del__ method is a destructor in Python, called automatically when an object is about to be destroyed (garbage collected).\n",
        "- Key Points About __del__()\n",
        "  - Automatic Cleanup – Helps release resources like files, network connections, or database connections when an object is deleted.\n",
        "  - Called During Garbage Collection – Invoked when an object goes out of scope or is explicitly deleted using del.\n",
        "  - Not Always Predictable – The exact moment of destruction depends on Python’s garbage collector.\n",
        "  - Can Be Overridden – Allows defining custom cleanup logic before an object is destroyed.\n",
        "  - Avoid Circular References – If objects reference each other, garbage collection may not delete them immediately.\n",
        "\n",
        "\n",
        "#22 What is the difference between @staticmethod and @classmethod in Python ?\n",
        "- @staticmethod – No Access to Class or Instance\n",
        "  - A static method does not take self or cls as the first argument.\n",
        "  - It behaves like a regular function but belongs to the class namespace.\n",
        "  - It cannot modify class attributes or instance attributes.\n",
        "  - Used when a method doesn’t need access to instance or class data.\n",
        "-  @classmethod – Access to Class (cls)\n",
        "  - A class method takes cls (class itself) as the first parameter.\n",
        "  - It can modify class attributes but cannot modify instance attributes.\n",
        "  - Used for modifying class-level data or creating alternative constructors.\n",
        "\n",
        "#23 How does polymorphism work in Python with inheritance ?\n",
        "- Polymorphism allows objects of different classes to be treated as objects of a common superclass, enabling flexibility and code reuse.\n",
        "- In inheritance, polymorphism is achieved when a subclass overrides a method of its superclass while maintaining the same method signature.\n",
        "- How Polymorphism Works with Inheritance\n",
        "    - Same method name in different classes – The subclass provides a different implementation of a method already defined in the parent class.\n",
        "    - Common interface – Different subclasses can have their own versions of a method, but they can be accessed through a common superclass reference.\n",
        "    - Dynamic method resolution – The method that gets executed depends on the actual object type at runtime.\n",
        "\n",
        "#24 What is method chaining in Python OOP ?\n",
        "- Method chaining is a technique in Object-Oriented Programming where multiple methods are called sequentially on the same object in a single statement. This is achieved by having each method return self, allowing further method calls to be linked together.\n",
        "- Key Benefits of Method Chaining\n",
        "  - Improves Readability – Reduces redundant object references and makes code concise.\n",
        "  - Enhances Code Flow – Allows writing sequential operations in a natural, left-to-right manner.\n",
        "  - Avoids Temporary Variables – Eliminates the need for intermediate variables to store results.\n",
        "\n",
        "#25 What is the purpose of the __call__ method in Python ?\n",
        "- The __call__ method allows an instance of a class to be called like a function. This means objects can behave like functions while maintaining their state and behavior.\n",
        "\n",
        "- Key Uses of __call__\n",
        "    - Make Objects Callable – Allows instances to be called like functions using parentheses ().\n",
        "    - Encapsulation of Logic – Stores function-like behavior inside an object while maintaining state.\n",
        "    - Reusable and Clean Code – Useful for decorators, function wrappers, and machine learning models.\n",
        "    - Alternative to Methods – Instead of defining multiple named methods, __call__ provides a generic way to process data.\n"
      ],
      "metadata": {
        "id": "ptcPt2cD5fQA"
      }
    },
    {
      "cell_type": "code",
      "execution_count": 1,
      "metadata": {
        "id": "NdDno03E5aNG",
        "colab": {
          "base_uri": "https://localhost:8080/"
        },
        "outputId": "37a6ca7a-fa89-40e3-d655-40d8d205ad13"
      },
      "outputs": [
        {
          "output_type": "stream",
          "name": "stdout",
          "text": [
            "Animal makes a sound\n",
            "Bark!\n"
          ]
        }
      ],
      "source": [
        "#1  Create a parent class Animal with a method speak() that prints a generic message. Create a child class Dog that overrides the speak() method to print \"Bark!\".\n",
        "\n",
        "class Animal:\n",
        "    def speak(self):\n",
        "        print(\"Animal makes a sound\")\n",
        "\n",
        "class Dog(Animal):\n",
        "    def speak(self):\n",
        "        print(\"Bark!\")\n",
        "\n",
        "animal = Animal()\n",
        "dog = Dog()\n",
        "\n",
        "animal.speak()\n",
        "dog.speak()"
      ]
    },
    {
      "cell_type": "code",
      "source": [
        "#2  Write a program to create an abstract class Shape with a method area(). Derive classes Circle and Rectangle from it and implement the area() method in both.\n",
        "\n",
        "from abc import ABC, abstractmethod\n",
        "import math\n",
        "\n",
        "class Shape(ABC):\n",
        "    @abstractmethod\n",
        "    def area(self):\n",
        "        pass\n",
        "\n",
        "class Circle(Shape):\n",
        "    def __init__(self, radius):\n",
        "        self.radius = radius\n",
        "\n",
        "    def area(self):\n",
        "        return math.pi * (self.radius ** 2)\n",
        "\n",
        "class Rectangle(Shape):\n",
        "    def __init__(self, width, height):\n",
        "        self.width = width\n",
        "        self.height = height\n",
        "\n",
        "    def area(self):\n",
        "        return self.width * self.height\n",
        "\n",
        "circle = Circle(5)\n",
        "rectangle = Rectangle(4, 6)\n",
        "\n",
        "print(\"Area of Circle:\", circle.area())\n",
        "print(\"Area of Rectangle:\", rectangle.area())\n"
      ],
      "metadata": {
        "colab": {
          "base_uri": "https://localhost:8080/"
        },
        "id": "XP-mtXbKbVsU",
        "outputId": "343f653f-b25b-4059-f40b-62c4a9de43ca"
      },
      "execution_count": 2,
      "outputs": [
        {
          "output_type": "stream",
          "name": "stdout",
          "text": [
            "Area of Circle: 78.53981633974483\n",
            "Area of Rectangle: 24\n"
          ]
        }
      ]
    },
    {
      "cell_type": "code",
      "source": [
        "#3  Implement a multi-level inheritance scenario where a class Vehicle has an attribute type. Derive a class Car and further derive a class ElectricCar that adds a battery attribute.\n",
        "class Vehicle:\n",
        "    def __init__(self, type):\n",
        "        self.type = type\n",
        "\n",
        "class Car(Vehicle):\n",
        "    def __init__(self, type, model):\n",
        "        super().__init__(type)\n",
        "        self.model = model\n",
        "\n",
        "class ElectricCar(Car):\n",
        "    def __init__(self, type, model, battery):\n",
        "        super().__init__(type, model)\n",
        "        self.battery = battery\n",
        "\n",
        "vehicle = Vehicle(\"Vehicle\")\n",
        "car = Car(\"Car\", \"Sedan\")\n",
        "electric_car = ElectricCar(\"Car\", \"Tesla\", \"100kWh\")\n",
        "\n",
        "print(vehicle.type)\n",
        "print(car.type, car.model)\n",
        "print(electric_car.type, electric_car.model, electric_car.battery)\n"
      ],
      "metadata": {
        "colab": {
          "base_uri": "https://localhost:8080/"
        },
        "id": "tMuOMFQHbkuB",
        "outputId": "556e1cc2-e7f8-4654-aed8-199ea7a47b98"
      },
      "execution_count": 3,
      "outputs": [
        {
          "output_type": "stream",
          "name": "stdout",
          "text": [
            "Vehicle\n",
            "Car Sedan\n",
            "Car Tesla 100kWh\n"
          ]
        }
      ]
    },
    {
      "cell_type": "code",
      "source": [
        "#4 Demonstrate polymorphism by creating a base class Bird with a method fly(). Create two derived classes Sparrow and Penguin that override the fly() method.\n",
        "\n",
        "class Bird:\n",
        "    def fly(self):\n",
        "        print(\"Bird is flying\")\n",
        "\n",
        "class Sparrow(Bird):\n",
        "    def fly(self):\n",
        "        print(\"Sparrow is flying\")\n",
        "\n",
        "class Penguin(Bird):\n",
        "    def fly(self):\n",
        "        print(\"Penguin cannot fly\")\n",
        "\n",
        "bird = Bird()\n",
        "sparrow = Sparrow()\n",
        "penguin = Penguin()\n",
        "\n",
        "bird.fly()\n",
        "sparrow.fly()\n",
        "penguin.fly()"
      ],
      "metadata": {
        "colab": {
          "base_uri": "https://localhost:8080/"
        },
        "id": "iHmt7SPKbvrz",
        "outputId": "5daf7c7e-05c9-4578-a0e8-c60d83f7070b"
      },
      "execution_count": 4,
      "outputs": [
        {
          "output_type": "stream",
          "name": "stdout",
          "text": [
            "Bird is flying\n",
            "Sparrow is flying\n",
            "Penguin cannot fly\n"
          ]
        }
      ]
    },
    {
      "cell_type": "code",
      "source": [
        "#5  Write a program to demonstrate encapsulation by creating a class BankAccount with private attributes balance and methods to deposit, withdraw, and check balance.\n",
        "\n",
        "class BankAccount:\n",
        "    def __init__(self, balance=0):\n",
        "        self.__balance = balance\n",
        "\n",
        "    def deposit(self, amount):\n",
        "        if amount > 0:\n",
        "            self.__balance += amount\n",
        "            print(f\"Deposited {amount}. New balance: {self.__balance}\")\n",
        "        else:\n",
        "            print(\"Deposit amount must be positive.\")\n",
        "\n",
        "    def withdraw(self, amount):\n",
        "        if amount > 0 and amount <= self.__balance:\n",
        "            self.__balance -= amount\n",
        "            print(f\"Withdrew {amount}. New balance: {self.__balance}\")\n",
        "        else:\n",
        "            print(\"Invalid withdrawal amount.\")\n",
        "\n",
        "    def check_balance(self):\n",
        "        print(f\"Current balance: {self.__balance}\")\n",
        "\n",
        "# Create a BankAccount instance\n",
        "account = BankAccount(1000)\n",
        "\n",
        "# Perform operations\n",
        "account.deposit(500)\n",
        "account.withdraw(200)\n",
        "account.check_balance()\n"
      ],
      "metadata": {
        "colab": {
          "base_uri": "https://localhost:8080/"
        },
        "id": "SLD-LbxPb8mQ",
        "outputId": "6e843226-e0a0-4d92-e7de-58962b5e5e37"
      },
      "execution_count": 5,
      "outputs": [
        {
          "output_type": "stream",
          "name": "stdout",
          "text": [
            "Deposited 500. New balance: 1500\n",
            "Withdrew 200. New balance: 1300\n",
            "Current balance: 1300\n"
          ]
        }
      ]
    },
    {
      "cell_type": "code",
      "source": [
        "#6 Demonstrate runtime polymorphism using a method play() in a base class Instrument. Derive classes Guitar and Piano that implement their own version of play().\n",
        "class Instrument:\n",
        "    def play(self):\n",
        "        print(\"Playing instrument\")\n",
        "\n",
        "class Guitar(Instrument):\n",
        "    def play(self):\n",
        "        print(\"Playing guitar\")\n",
        "\n",
        "class Piano(Instrument):\n",
        "    def play(self):\n",
        "        print(\"Playing piano\")\n",
        "\n",
        "instrument = Instrument()\n",
        "guitar = Guitar()\n",
        "piano = Piano()\n",
        "\n",
        "instrument.play()\n",
        "guitar.play()\n",
        "piano.play()\n"
      ],
      "metadata": {
        "colab": {
          "base_uri": "https://localhost:8080/"
        },
        "id": "9YZ91EE0cGOY",
        "outputId": "70c31003-8c4d-49b3-fc99-5158d4d244c3"
      },
      "execution_count": 6,
      "outputs": [
        {
          "output_type": "stream",
          "name": "stdout",
          "text": [
            "Playing instrument\n",
            "Playing guitar\n",
            "Playing piano\n"
          ]
        }
      ]
    },
    {
      "cell_type": "code",
      "source": [
        "#7 Create a class MathOperations with a class method add_numbers() to add two numbers and a static method subtract_numbers() to subtract two numbers.\n",
        "\n",
        "class MathOperations:\n",
        "    @classmethod\n",
        "    def add_numbers(cls, num1, num2):\n",
        "        return num1 + num2\n",
        "\n",
        "    @staticmethod\n",
        "    def subtract_numbers(num1, num2):\n",
        "        return num1 - num2\n",
        "\n",
        "# Example usage:\n",
        "result_add = MathOperations.add_numbers(5, 3)\n",
        "result_subtract = MathOperations.subtract_numbers(5, 3)\n",
        "\n",
        "print(f\"Sum: {result_add}\")\n",
        "print(f\"Difference: {result_subtract}\")\n"
      ],
      "metadata": {
        "colab": {
          "base_uri": "https://localhost:8080/"
        },
        "id": "jLBgu0T6cSMN",
        "outputId": "23373b7e-c618-4de4-c882-bf03e917b717"
      },
      "execution_count": 21,
      "outputs": [
        {
          "output_type": "stream",
          "name": "stdout",
          "text": [
            "Sum: 8\n",
            "Difference: 2\n"
          ]
        }
      ]
    },
    {
      "cell_type": "code",
      "source": [
        "#8  Implement a class Person with a class method to count the total number of persons created\n",
        "class Person:\n",
        "    total_persons = 0  # Class variable to keep track of the count\n",
        "\n",
        "    def __init__(self, name, age):\n",
        "        self.name = name\n",
        "        self.age = age\n",
        "        Person.total_persons += 1  # Increment the count each time a new person is created\n",
        "\n",
        "    @classmethod\n",
        "    def count_persons(cls):\n",
        "        return cls.total_persons\n",
        "\n",
        "# Example usage:\n",
        "person1 = Person(\"Alice\", 30)\n",
        "person2 = Person(\"Bob\", 25)\n",
        "person3 = Person(\"Charlie\", 35)\n",
        "\n",
        "# Getting the total number of persons created\n",
        "print(f\"Total persons created: {Person.count_persons()}\")\n"
      ],
      "metadata": {
        "colab": {
          "base_uri": "https://localhost:8080/"
        },
        "id": "laxCN42VdFq8",
        "outputId": "a5522953-bf99-4bc9-d67e-620a63804b0c"
      },
      "execution_count": 20,
      "outputs": [
        {
          "output_type": "stream",
          "name": "stdout",
          "text": [
            "Total persons created: 3\n"
          ]
        }
      ]
    },
    {
      "cell_type": "code",
      "source": [
        "#9  Write a class Fraction with attributes numerator and denominator. Override the str method to display the fraction as \"numerator/denominator\".\n",
        "class Fraction:\n",
        "    def __init__(self, numerator, denominator):\n",
        "        self.numerator = numerator\n",
        "        self.denominator = denominator\n",
        "\n",
        "    def __str__(self):\n",
        "        return f\"{self.numerator}/{self.denominator}\"\n",
        "\n",
        "# Example usage:\n",
        "fraction1 = Fraction(3, 4)\n",
        "fraction2 = Fraction(5, 8)\n",
        "\n",
        "print(f\"Fraction 1: {fraction1}\")\n",
        "print(f\"Fraction 2: {fraction2}\")\n"
      ],
      "metadata": {
        "colab": {
          "base_uri": "https://localhost:8080/"
        },
        "id": "6elUb4ajdPhf",
        "outputId": "46330c3c-fc16-4c1f-8c68-8b1382641e14"
      },
      "execution_count": 19,
      "outputs": [
        {
          "output_type": "stream",
          "name": "stdout",
          "text": [
            "Fraction 1: 3/4\n",
            "Fraction 2: 5/8\n"
          ]
        }
      ]
    },
    {
      "cell_type": "code",
      "source": [
        "#10  Demonstrate operator overloading by creating a class Vector and overriding the add method to add two vectors.\n",
        "class Vector:\n",
        "    def __init__(self, x, y):\n",
        "        self.x = x\n",
        "        self.y = y\n",
        "\n",
        "    def __add__(self, other):\n",
        "        # Overloading the '+' operator to add two vectors\n",
        "        if isinstance(other, Vector):\n",
        "            return Vector(self.x + other.x, self.y + other.y)\n",
        "        return NotImplemented\n",
        "\n",
        "    def __str__(self):\n",
        "        return f\"({self.x}, {self.y})\"\n",
        "\n",
        "# Example usage:\n",
        "vector1 = Vector(2, 3)\n",
        "vector2 = Vector(4, 1)\n",
        "\n",
        "result = vector1 + vector2  # Adding two vectors using the overloaded '+' operator\n",
        "print(f\"Vector 1: {vector1}\")\n",
        "print(f\"Vector 2: {vector2}\")\n",
        "print(f\"Sum of vectors: {result}\")\n"
      ],
      "metadata": {
        "colab": {
          "base_uri": "https://localhost:8080/"
        },
        "id": "QzNcLlU4dWVL",
        "outputId": "5053f623-ae9c-482d-8b23-04e0cca44849"
      },
      "execution_count": 18,
      "outputs": [
        {
          "output_type": "stream",
          "name": "stdout",
          "text": [
            "Vector 1: (2, 3)\n",
            "Vector 2: (4, 1)\n",
            "Sum of vectors: (6, 4)\n"
          ]
        }
      ]
    },
    {
      "cell_type": "code",
      "source": [
        "#11  Create a class Person with attributes name and age. Add a method greet() that prints \"Hello, my name is {name} and I am {age} years old\n",
        "class Person:\n",
        "    def __init__(self, name, age):\n",
        "        self.name = name\n",
        "        self.age = age\n",
        "\n",
        "    def greet(self):\n",
        "        print(f\"Hello, my name is {self.name} and I am {self.age} years old\")\n",
        "\n",
        "# Example usage:\n",
        "person1 = Person(\"Alice\", 30)\n",
        "person2 = Person(\"Bob\", 25)\n",
        "\n",
        "person1.greet()\n",
        "person2.greet()\n"
      ],
      "metadata": {
        "colab": {
          "base_uri": "https://localhost:8080/"
        },
        "id": "RmkydCpRdeDO",
        "outputId": "300225bb-ca46-43fd-a847-aae85bf47eba"
      },
      "execution_count": 17,
      "outputs": [
        {
          "output_type": "stream",
          "name": "stdout",
          "text": [
            "Hello, my name is Alice and I am 30 years old\n",
            "Hello, my name is Bob and I am 25 years old\n"
          ]
        }
      ]
    },
    {
      "cell_type": "code",
      "source": [
        "#12  Implement a class Student with attributes name and grades. Create a method average_grade() to compute the average of the grades.\n",
        "class Student:\n",
        "    def __init__(self, name, grades):\n",
        "        self.name = name\n",
        "        self.grades = grades  # grades should be a list of numerical values\n",
        "\n",
        "    def average_grade(self):\n",
        "        if self.grades:\n",
        "            return sum(self.grades) / len(self.grades)\n",
        "        return 0  # If there are no grades, return 0\n",
        "\n",
        "# Example usage:\n",
        "student1 = Student(\"Tom\", [90, 85, 88, 92])\n",
        "student2 = Student(\"Jerry\", [78, 82, 84, 76])\n",
        "\n",
        "print(f\"{student1.name}'s average grade: {student1.average_grade()}\")\n",
        "print(f\"{student2.name}'s average grade: {student2.average_grade()}\")\n"
      ],
      "metadata": {
        "colab": {
          "base_uri": "https://localhost:8080/"
        },
        "id": "pL-GRUGGdlsH",
        "outputId": "a7bc42e0-477d-4f54-b691-51107d6d24f5"
      },
      "execution_count": 16,
      "outputs": [
        {
          "output_type": "stream",
          "name": "stdout",
          "text": [
            "Tom's average grade: 88.75\n",
            "Jerry's average grade: 80.0\n"
          ]
        }
      ]
    },
    {
      "cell_type": "code",
      "source": [
        "#13. Create a class Rectangle with methods set_dimensions() to set the dimensions and area() to calculate the area.\n",
        "class Rectangle:\n",
        "    def __init__(self):\n",
        "        self.length = 0\n",
        "        self.width = 0\n",
        "\n",
        "    def set_dimensions(self, length, width):\n",
        "        self.length = length\n",
        "        self.width = width\n",
        "\n",
        "    def area(self):\n",
        "        return self.length * self.width\n",
        "\n",
        "# Example usage:\n",
        "rectangle = Rectangle()\n",
        "rectangle.set_dimensions(5, 3)  # Setting length and width\n",
        "print(f\"Area of the rectangle: {rectangle.area()}\")  # Calculating and printing the area\n"
      ],
      "metadata": {
        "colab": {
          "base_uri": "https://localhost:8080/"
        },
        "id": "MkUt0S8edwDT",
        "outputId": "985ef99b-8501-447b-e7df-134157575e2d"
      },
      "execution_count": 15,
      "outputs": [
        {
          "output_type": "stream",
          "name": "stdout",
          "text": [
            "Area of the rectangle: 15\n"
          ]
        }
      ]
    },
    {
      "cell_type": "code",
      "source": [
        "#14  Create a class Employee with a method calculate_salary() that computes the salary based on hours worked and hourly rate. Create a derived class Manager that adds a bonus to the salary.\n",
        "\n",
        "class Employee:\n",
        "    def __init__(self, name, hours_worked, hourly_rate):\n",
        "        self.name = name\n",
        "        self.hours_worked = hours_worked\n",
        "        self.hourly_rate = hourly_rate\n",
        "\n",
        "    def calculate_salary(self):\n",
        "        return self.hours_worked * self.hourly_rate\n",
        "\n",
        "class Manager(Employee):\n",
        "    def __init__(self, name, hours_worked, hourly_rate, bonus):\n",
        "        super().__init__(name, hours_worked, hourly_rate)\n",
        "        self.bonus = bonus\n",
        "\n",
        "    def calculate_salary(self):\n",
        "        base_salary = super().calculate_salary()\n",
        "        return base_salary + self.bonus\n",
        "\n",
        "employee = Employee(\"Tom\", 40, 25)\n",
        "manager = Manager(\"Hardy\", 40, 30, 500)\n",
        "print(f\"{employee.name}'s salary: ${employee.calculate_salary()}\")\n",
        "print(f\"{manager.name}'s salary (with bonus): ${manager.calculate_salary()}\")\n"
      ],
      "metadata": {
        "colab": {
          "base_uri": "https://localhost:8080/"
        },
        "id": "knVwAzlLd45o",
        "outputId": "7b87806b-0206-47b6-bc3e-737fd873e460"
      },
      "execution_count": 10,
      "outputs": [
        {
          "output_type": "stream",
          "name": "stdout",
          "text": [
            "Tom's salary: $1000\n",
            "Hardy's salary (with bonus): $1700\n"
          ]
        }
      ]
    },
    {
      "cell_type": "code",
      "source": [
        "#15  Create a class Product with attributes name, price, and quantity. Implement a method total_price() that calculates the total price of the product.\n",
        "\n",
        "class Product:\n",
        "    def __init__(self, name, price, quantity):\n",
        "        self.name = name\n",
        "        self.price = price\n",
        "        self.quantity = quantity\n",
        "\n",
        "    def total_price(self):\n",
        "        return self.price * self.quantity\n",
        "\n",
        "product1 = Product(\"Laptop\", 1000, 3)\n",
        "product2 = Product(\"Phone\", 500, 5)\n",
        "\n",
        "print(f\"Total price of {product1.name}: ${product1.total_price()}\")\n",
        "print(f\"Total price of {product2.name}: ${product2.total_price()}\")\n"
      ],
      "metadata": {
        "colab": {
          "base_uri": "https://localhost:8080/"
        },
        "id": "LqMcyxKceHNd",
        "outputId": "bed6059f-8b85-4a26-addb-75ab58d7d823"
      },
      "execution_count": 11,
      "outputs": [
        {
          "output_type": "stream",
          "name": "stdout",
          "text": [
            "Total price of Laptop: $3000\n",
            "Total price of Phone: $2500\n"
          ]
        }
      ]
    },
    {
      "cell_type": "code",
      "source": [
        "#16 Create a class Animal with an abstract method sound(). Create two derived classes Cow and Sheep that implement the sound() method.\n",
        "\n",
        "from abc import ABC, abstractmethod\n",
        "\n",
        "class Animal(ABC):\n",
        "    @abstractmethod\n",
        "    def sound(self):\n",
        "        pass\n",
        "\n",
        "class Cow(Animal):\n",
        "    def sound(self):\n",
        "        return \"Moo\"\n",
        "\n",
        "class Sheep(Animal):\n",
        "    def sound(self):\n",
        "        return \"Baa\"\n",
        "\n",
        "cow = Cow()\n",
        "sheep = Sheep()\n",
        "\n",
        "print(cow.sound())\n",
        "print(sheep.sound())\n"
      ],
      "metadata": {
        "colab": {
          "base_uri": "https://localhost:8080/"
        },
        "id": "Ddt4JPmXeW4F",
        "outputId": "9128aab5-f625-4681-bad2-e9ba4ef4101d"
      },
      "execution_count": 12,
      "outputs": [
        {
          "output_type": "stream",
          "name": "stdout",
          "text": [
            "Moo\n",
            "Baa\n"
          ]
        }
      ]
    },
    {
      "cell_type": "code",
      "source": [
        "#17 Create a class Book with attributes title, author, and year_published. Add a method get_book_info() that returns a formatted string with the book's details.\n",
        "\n",
        "class Book:\n",
        "    def __init__(self, title, author, year_published):\n",
        "        self.title = title\n",
        "        self.author = author\n",
        "        self.year_published = year_published\n",
        "\n",
        "    def get_book_info(self):\n",
        "        return f\"Title: {self.title}, Author: {self.author}, Year Published: {self.year_published}\"\n",
        "\n",
        "book1 = Book(\"1984\", \"George Orwell\", 1949)\n",
        "book2 = Book(\"To Kill a Mockingbird\", \"Harper Lee\", 1960)\n",
        "\n",
        "print(book1.get_book_info())\n",
        "print(book2.get_book_info())\n"
      ],
      "metadata": {
        "colab": {
          "base_uri": "https://localhost:8080/"
        },
        "id": "NFkSxefae3kX",
        "outputId": "77876910-edf0-40e3-8b53-e11088ea825d"
      },
      "execution_count": 14,
      "outputs": [
        {
          "output_type": "stream",
          "name": "stdout",
          "text": [
            "Title: 1984, Author: George Orwell, Year Published: 1949\n",
            "Title: To Kill a Mockingbird, Author: Harper Lee, Year Published: 1960\n"
          ]
        }
      ]
    },
    {
      "cell_type": "code",
      "source": [
        "#18 Create a class House with attributes address and price. Create a derived class Mansion that adds an attribute number_of_rooms.\n",
        "class House:\n",
        "    def __init__(self, address, price):\n",
        "        self.address = address\n",
        "        self.price = price\n",
        "\n",
        "class Mansion(House):\n",
        "    def __init__(self, address, price, number_of_rooms):\n",
        "        super().__init__(address, price)\n",
        "        self.number_of_rooms = number_of_rooms\n",
        "\n",
        "mansion = Mansion(\"123 Luxury St.\", 5000000, 10)\n",
        "print(f\"Address: {mansion.address}, Price: ${mansion.price}, Number of Rooms: {mansion.number_of_rooms}\")\n"
      ],
      "metadata": {
        "colab": {
          "base_uri": "https://localhost:8080/"
        },
        "id": "DqdXGgn_fRSe",
        "outputId": "46e4913f-bed6-4be6-e9bc-739d007f3a39"
      },
      "execution_count": 13,
      "outputs": [
        {
          "output_type": "stream",
          "name": "stdout",
          "text": [
            "Address: 123 Luxury St., Price: $5000000, Number of Rooms: 10\n"
          ]
        }
      ]
    }
  ]
}